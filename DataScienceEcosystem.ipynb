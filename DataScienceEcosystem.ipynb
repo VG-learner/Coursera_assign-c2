{
 "cells": [
  {
   "cell_type": "markdown",
   "id": "d5e2b6ef",
   "metadata": {},
   "source": [
    "# Data Science Tools and Ecosystem"
   ]
  },
  {
   "cell_type": "markdown",
   "id": "6b758699",
   "metadata": {},
   "source": [
    "In this notebook, Data Science Tools and Ecosystem are summarized.\n",
    "such as Some of the popular languages, commonly used libraries, Data Science Tools,\n",
    "few examples of evaluating arithmetic expressions in Python."
   ]
  },
  {
   "cell_type": "markdown",
   "id": "c5358c0a",
   "metadata": {},
   "source": [
    "**Objectives:**\n",
    "- List of popular languages for Data Science\n",
    "- List of the commonly used libraries used by Data Scientists\n",
    "- List of development environment open source tools used in data science\n",
    "- Few examples of evaluating arithmetic expressions in Python"
   ]
  },
  {
   "cell_type": "markdown",
   "id": "8aa5314a",
   "metadata": {},
   "source": [
    "## Author\n",
    "Velliyangiri"
   ]
  },
  {
   "cell_type": "markdown",
   "id": "0f0f8cce",
   "metadata": {},
   "source": [
    "##### Some of the popular languages that Data Scientists use are:\n",
    "1. Python\n",
    "2. R\n",
    "3. SQL\n",
    "4. Java\n",
    "5. Julia\n",
    "6. Scala"
   ]
  },
  {
   "cell_type": "markdown",
   "id": "033e9037",
   "metadata": {},
   "source": [
    "##### Some of the commonly used libraries used by Data Scientists include:\n",
    "1. Pandas\n",
    "2. Numpy\n",
    "3. Matplotlib\n",
    "4. Pytorch\n",
    "5. Scikit\n",
    "6. Tensorflow\n",
    "7. Keras\n",
    "8. Sci-py"
   ]
  },
  {
   "cell_type": "markdown",
   "id": "f0246e44",
   "metadata": {},
   "source": [
    "##### Development environment open source tools used in data science\n",
    "|Data Science Tools|\n",
    "|:----------------|\n",
    "|1 Rstudio|\n",
    "|2 Apache Spark|\n",
    "|3 Jupyter Notebook|\n",
    "|4 GitHub|\n",
    "|5 Watson Studio|\n"
   ]
  },
  {
   "cell_type": "markdown",
   "id": "55bc15ae",
   "metadata": {},
   "source": [
    "### Below are a few examples of evaluating arithmetic expressions in Python"
   ]
  },
  {
   "cell_type": "code",
   "execution_count": 2,
   "id": "650bb893",
   "metadata": {},
   "outputs": [
    {
     "data": {
      "text/plain": [
       "17"
      ]
     },
     "execution_count": 2,
     "metadata": {},
     "output_type": "execute_result"
    }
   ],
   "source": [
    "#This a simple arithmetic expression to mutiply then add integers\n",
    "(3*4)+5"
   ]
  },
  {
   "cell_type": "code",
   "execution_count": 4,
   "id": "e9c1d58c",
   "metadata": {},
   "outputs": [
    {
     "name": "stdout",
     "output_type": "stream",
     "text": [
      "3.3333333333333335\n"
     ]
    }
   ],
   "source": [
    "#This will convert 200 minutes to hours by diving by 60\n",
    "# 1 hour = 60minutes\n",
    "hour= 200/60\n",
    "print(hour)"
   ]
  },
  {
   "cell_type": "code",
   "execution_count": null,
   "id": "ea3fddd3",
   "metadata": {},
   "outputs": [],
   "source": []
  }
 ],
 "metadata": {
  "kernelspec": {
   "display_name": "Python 3 (ipykernel)",
   "language": "python",
   "name": "python3"
  },
  "language_info": {
   "codemirror_mode": {
    "name": "ipython",
    "version": 3
   },
   "file_extension": ".py",
   "mimetype": "text/x-python",
   "name": "python",
   "nbconvert_exporter": "python",
   "pygments_lexer": "ipython3",
   "version": "3.11.3"
  }
 },
 "nbformat": 4,
 "nbformat_minor": 5
}
